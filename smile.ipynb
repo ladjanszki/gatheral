{
 "cells": [
  {
   "cell_type": "markdown",
   "metadata": {},
   "source": [
    "# Demonstration of the Gatheral volatility fit\n",
    "\n",
    "$$ w(k;\\chi_R) = a + b \\{\\rho (k-m) \\sqrt{(k-m)^2 + \\sigma^2} \\} $$"
   ]
  },
  {
   "cell_type": "code",
   "execution_count": 40,
   "metadata": {},
   "outputs": [
    {
     "name": "stdout",
     "output_type": "stream",
     "text": [
      "The autoreload extension is already loaded. To reload it, use:\n",
      "  %reload_ext autoreload\n"
     ]
    }
   ],
   "source": [
    "%load_ext autoreload\n",
    "%autoreload 2\n",
    "%matplotlib inline"
   ]
  },
  {
   "cell_type": "code",
   "execution_count": 33,
   "metadata": {},
   "outputs": [],
   "source": [
    "import numpy as np\n",
    "import matplotlib.pyplot as plt\n",
    "import pandas as pd\n",
    "import urllib.request\n",
    "import json\n",
    "import datetime\n",
    "from scipy.optimize import curve_fit \n",
    "\n",
    "from ipywidgets import interact, interactive, fixed, interact_manual\n",
    "import ipywidgets as widgets\n",
    "\n",
    "\n",
    "import util"
   ]
  },
  {
   "cell_type": "code",
   "execution_count": 55,
   "metadata": {},
   "outputs": [],
   "source": [
    "def plotResult(logStrike, impVol, a, b, rho, m, sigma):\n",
    "    \n",
    "    plt.plot(logStrike, util.rawImpVar(logStrike, a, b, rho, m, sigma), linewidth=3, color='red')\n",
    "    plt.scatter(logStrike, impVol)\n",
    "    \n",
    "    plt.show()    "
   ]
  },
  {
   "cell_type": "markdown",
   "metadata": {},
   "source": [
    "## Data for simulation\n",
    "\n",
    "We have to have some real world options data to test the Gatheral model class. From here we can download data or load the pre-saved from the repo."
   ]
  },
  {
   "cell_type": "markdown",
   "metadata": {},
   "source": [
    "### Get data from Yahoo finance\n",
    "In the following code block there is a function from util module that can get options data from Yahoo finance. The Yahoo finance API is changing rapidly so this may not work long after writing this."
   ]
  },
  {
   "cell_type": "code",
   "execution_count": null,
   "metadata": {},
   "outputs": [],
   "source": [
    "ticker = 'TSLA'\n",
    "maturity = '2019-11-29'\n",
    "\n",
    "# Get data from Yahoo finance and save for later testing\n",
    "data = util.getData(ticker, maturity)\n",
    "nowString = datetime.datetime.now().strftime('%Y_%m_%d-%H_%M_%S')\n",
    "fileName = ticker + '__' + nowString\n",
    "data.to_csv(fileName)"
   ]
  },
  {
   "cell_type": "markdown",
   "metadata": {},
   "source": [
    "### Load pre-saved data\n",
    "Because the Yahoo finance API is changing rapidly and pre-saved options data is already in the repo. It is also helpful if there is no net connection to download data."
   ]
  },
  {
   "cell_type": "code",
   "execution_count": 53,
   "metadata": {},
   "outputs": [],
   "source": [
    "#df = pd.read_csv('TSLA__2019_11_19-19_29_07')\n",
    "df = pd.read_csv('TSLA__2019_11_19-20_10_38')"
   ]
  },
  {
   "cell_type": "markdown",
   "metadata": {},
   "source": [
    "### Get rid of zero implied volatility points\n",
    "\n",
    "As an artifact of the Yahoo finance API if there is not much activty on a given strike it zeros down the implied volatility of the model which is obviously wring. We filter out these points before fitting."
   ]
  },
  {
   "cell_type": "code",
   "execution_count": 54,
   "metadata": {},
   "outputs": [],
   "source": [
    "trh = 10E-4\n",
    "df = df.drop(df[df['impliedVolatility'] < trh].index)"
   ]
  },
  {
   "cell_type": "markdown",
   "metadata": {},
   "source": [
    "### Get log-price and implied volitility into two arrays"
   ]
  },
  {
   "cell_type": "code",
   "execution_count": 37,
   "metadata": {},
   "outputs": [],
   "source": [
    "logStrike = np.log(df['strike'].to_numpy())\n",
    "impVol = df['impliedVolatility'].to_numpy()"
   ]
  },
  {
   "cell_type": "markdown",
   "metadata": {},
   "source": [
    "## Fitting parameters and plot fitted model"
   ]
  },
  {
   "cell_type": "markdown",
   "metadata": {},
   "source": [
    "### Initial guess trick for the fitting \n",
    "\n",
    "The idea here is the following. The model class defined by Gatheral can be quite hard to fit if the parameter optimization does not start from closer initial parameters. This is normal in a five parameter non-linear model. The question is how we can init guess the parameters?\n",
    "\n",
    "There is two low hanging fruit. By examining the model it is clear that \"m\" is a shift in the basic variable (log-strike) and \"a\" is the parameter for the minimum value. We can have a good guess for this from the input array by getting the minimum index and the minimum value and use them to init guess the optimization"
   ]
  },
  {
   "cell_type": "code",
   "execution_count": 50,
   "metadata": {},
   "outputs": [
    {
     "name": "stdout",
     "output_type": "stream",
     "text": [
      "[ 0.14553001  1.87925698 -0.31873805  5.77911418  0.11022199]\n"
     ]
    }
   ],
   "source": [
    "idx = np.argmin(impVol)\n",
    "aInit = impVol[idx]\n",
    "mInit = logStrike[idx]\n",
    "\n",
    "initParam = [aInit, 0.0, 0.0, mInit, 0.4]\n",
    "\n",
    "params, params_covariance = curve_fit(util.rawImpVar, logStrike, impVol, p0=initParam)\n",
    "print(params)\n",
    "\n",
    "a = params[0]\n",
    "b = params[1]\n",
    "rho = params[2]\n",
    "m = params[3]\n",
    "sigma = params[4]"
   ]
  },
  {
   "cell_type": "markdown",
   "metadata": {},
   "source": [
    "### Plotting the option data and the fitted model"
   ]
  },
  {
   "cell_type": "code",
   "execution_count": 57,
   "metadata": {},
   "outputs": [
    {
     "data": {
      "application/vnd.jupyter.widget-view+json": {
       "model_id": "1d9d76d82e7f480e9765451308c75c9a",
       "version_major": 2,
       "version_minor": 0
      },
      "text/plain": [
       "interactive(children=(FloatSlider(value=0.14553001095629303, description='a', max=0.4365900328688791, min=-0.1…"
      ]
     },
     "metadata": {},
     "output_type": "display_data"
    },
    {
     "data": {
      "text/plain": [
       "<function __main__.plotResult(logStrike, impVol, a, b, rho, m, sigma)>"
      ]
     },
     "execution_count": 57,
     "metadata": {},
     "output_type": "execute_result"
    }
   ],
   "source": [
    "interact(plotResult, logStrike=fixed(logStrike), impVol=fixed(impVol), a=a, b=b, rho=rho, m=m, sigma=sigma)"
   ]
  }
 ],
 "metadata": {
  "kernelspec": {
   "display_name": "Python 3",
   "language": "python",
   "name": "python3"
  },
  "language_info": {
   "codemirror_mode": {
    "name": "ipython",
    "version": 3
   },
   "file_extension": ".py",
   "mimetype": "text/x-python",
   "name": "python",
   "nbconvert_exporter": "python",
   "pygments_lexer": "ipython3",
   "version": "3.6.9"
  }
 },
 "nbformat": 4,
 "nbformat_minor": 2
}
